{
 "cells": [
  {
   "cell_type": "markdown",
   "id": "b8f6acc1",
   "metadata": {},
   "source": [
    "<h1 style=\"text-align:center;\">Principal Component Analysis (PCA)</h1>\n"
   ]
  },
  {
   "cell_type": "markdown",
   "id": "c45473dd",
   "metadata": {},
   "source": [
    "<u>**Author</u> :** [Younes Dahami](https://www.linkedin.com/in/dahami/)"
   ]
  },
  {
   "cell_type": "markdown",
   "id": "66114f65",
   "metadata": {},
   "source": [
    "# Introduction\n",
    "\n",
    "**Principal Component Analysis (PCA)** is a dimensionality reduction technique used to identify patterns and reduce the number of features in a dataset while retaining the most important information. It achieves this by <span style=\"color:blue\">transforming the original variables into a new set of orthogonal variables</span>\n",
    " called **principal components.**\n",
    " \n",
    " <img src=\"PCA.png\" alt=\"PCA\" style=\"width:500px;height:400px;\">\n",
    " <figcaption><center><strong>Figure 1 : PCA of a multivariate Gaussian distribution centered at (1,3) with a standard deviation of 3 in roughly the (0.866, 0.5) direction and of 1 in the orthogonal direction. The vectors shown are the eigenvectors of the covariance matrix scaled by the square root of the corresponding eigenvalue, and shifted so their tails are at the mean.</center></figcaption>\n",
    "\n",
    "Image courtesy of [Wikipedia](https://en.wikipedia.org/wiki/Principal_component_analysis).\n",
    "    \n",
    "Here's a detailed definition of PCA :\n",
    "\n",
    "* <u>**Objective**</u> **:** The primary goal of PCA is to transform a dataset with a potentially large number of <span style=\"color:blue\">correlated variables</span> into a dataset with a smaller number of <span style=\"color:blue\">uncorrelated variables (principal components)</span>, thereby reducing the dimensionality of the data while retaining most of the variance.\n",
    "\n",
    "* <u>**Orthogonal Transformation**</u> **:** PCA performs an orthogonal linear transformation of the data to create new uncorrelated variables called principal components. Each principal component is a linear combination of the original variables.\n",
    "\n",
    "* <u>**Variance Maximization**</u> **:** PCA aims to maximize the variance of the data along the principal components. The first principal component captures the maximum variance in the data, followed by subsequent components capturing decreasing amounts of variance.\n",
    "\n",
    "* <u>**Eigenvalues**</u> and * <u>**Eigenvectors**</u> **:** PCA identifies the principal components by computing the eigenvectors (directions) and eigenvalues (magnitude) of the covariance matrix of the original data :\n",
    "    * The eigenvectors represent the directions of maximum variance,\n",
    "    * The eigenvalues indicate the amount of variance explained by each principal component.\n",
    "    \n",
    "* <u>**Dimensionality Reduction**</u> **:** After computing the principal components, PCA allows for the selection of a subset of these components that capture most of the variance in the data. By retaining only the top-ranked principal components, PCA achieves dimensionality reduction while preserving as much information as possible.\n",
    "\n",
    "* <u>**Applications**</u> **:** PCA is widely used in various fields, including machine learning, image processing, genetics, finance, and social sciences. It can help visualize high-dimensional data, remove noise, identify patterns, and improve the performance of machine learning algorithms by reducing overfitting and computational complexity.\n",
    "\n",
    "* <u>**Assumptions**</u> **:** PCA assumes linearity, orthogonality, and homoscedasticity (constant variance) in the data. It is sensitive to scale, so <span style=\"color:blue\">it's essential to standardize or normalize the variables before applying PCA</span> to ensure that variables with larger scales do not dominate the analysis.\n",
    "    \n",
    "<img src=\"PCA1.png\" alt=\"PCA1\" style=\"width:500px;height:400px;\">\n",
    " <figcaption><center><strong>Figure 2 : The original 3-dimensional dataset is represented here. The red, blue, and green arrows indicate the direction of the first, second, and third principal components, respectively.</center></figcaption>\n",
    "     \n",
    "Image courtesy of the author of [Principal Component Analysis (PCA) Explained Visually with Zero Math](https://towardsdatascience.com/principal-component-analysis-pca-explained-visually-with-zero-math-1cbf392b9e7d).\n",
    "\n",
    "     \n",
    "<img src=\"PCA2.png\" alt=\"PCA1\" style=\"width:500px;height:400px;\">\n",
    " <figcaption><center><strong>Figure 3 : PCA</center></figcaption>\n",
    "\n",
    "Sketch courtesy of the author of [PCA clearly explained ](https://towardsdatascience.com/pca-clearly-explained-how-when-why-to-use-it-and-feature-importance-a-guide-in-python-7c274582c37e)."
   ]
  },
  {
   "cell_type": "markdown",
   "id": "4429676e",
   "metadata": {},
   "source": [
    "So, PCA is a powerful statistical technique for dimensionality reduction, visualization, and pattern identification in high-dimensional datasets. It provides a systematic way to extract the most critical information from complex data while reducing redundancy and computational complexity."
   ]
  },
  {
   "cell_type": "markdown",
   "id": "e57ea3c3",
   "metadata": {},
   "source": [
    "# 1) Loading the dataset"
   ]
  },
  {
   "cell_type": "code",
   "execution_count": 1,
   "id": "f01333db",
   "metadata": {},
   "outputs": [],
   "source": [
    "import numpy as np\n",
    "import pandas as pd\n",
    "\n",
    "import matplotlib.pyplot as plt\n",
    "%matplotlib inline\n",
    "\n",
    "from sklearn.datasets import load_digits\n",
    "\n",
    "import warnings\n",
    "warnings.filterwarnings('ignore')"
   ]
  },
  {
   "cell_type": "code",
   "execution_count": 2,
   "id": "7bd17d12",
   "metadata": {},
   "outputs": [
    {
     "data": {
      "text/plain": [
       "dict_keys(['data', 'target', 'frame', 'feature_names', 'target_names', 'images', 'DESCR'])"
      ]
     },
     "execution_count": 2,
     "metadata": {},
     "output_type": "execute_result"
    }
   ],
   "source": [
    "# 'dataset' is a dictionary\n",
    "dataset = load_digits()\n",
    "dataset.keys()"
   ]
  },
  {
   "cell_type": "markdown",
   "id": "00cc7104",
   "metadata": {},
   "source": [
    "* `data` :  represents the features\n",
    "* `feature_names` : represents thee features names\n",
    "* `target` : target variable\n",
    "* `target_names` : the target classes"
   ]
  },
  {
   "cell_type": "markdown",
   "id": "eda9a1a1",
   "metadata": {},
   "source": [
    "# 2) EDA"
   ]
  },
  {
   "cell_type": "code",
   "execution_count": 3,
   "id": "515b4c79",
   "metadata": {},
   "outputs": [
    {
     "data": {
      "text/plain": [
       "numpy.ndarray"
      ]
     },
     "execution_count": 3,
     "metadata": {},
     "output_type": "execute_result"
    }
   ],
   "source": [
    "type(dataset.data)"
   ]
  },
  {
   "cell_type": "code",
   "execution_count": 4,
   "id": "c2274c11",
   "metadata": {},
   "outputs": [
    {
     "data": {
      "text/plain": [
       "(1797, 64)"
      ]
     },
     "execution_count": 4,
     "metadata": {},
     "output_type": "execute_result"
    }
   ],
   "source": [
    "dataset.data.shape"
   ]
  },
  {
   "cell_type": "markdown",
   "id": "7b30e83e",
   "metadata": {},
   "source": [
    "The dataset contains $1797$ images, each image represents a digit in $64$ pixels ($8$ by $8$)"
   ]
  },
  {
   "cell_type": "code",
   "execution_count": 5,
   "id": "9d2a2966",
   "metadata": {},
   "outputs": [
    {
     "name": "stdout",
     "output_type": "stream",
     "text": [
      "[ 0.  0.  5. 13.  9.  1.  0.  0.  0.  0. 13. 15. 10. 15.  5.  0.  0.  3.\n",
      " 15.  2.  0. 11.  8.  0.  0.  4. 12.  0.  0.  8.  8.  0.  0.  5.  8.  0.\n",
      "  0.  9.  8.  0.  0.  4. 11.  0.  1. 12.  7.  0.  0.  2. 14.  5. 10. 12.\n",
      "  0.  0.  0.  0.  6. 13. 10.  0.  0.  0.]\n",
      "64\n"
     ]
    }
   ],
   "source": [
    "# first row :\n",
    "print(dataset.data[0])\n",
    "print((len(dataset.data[0])))"
   ]
  },
  {
   "cell_type": "code",
   "execution_count": 6,
   "id": "699a76b0",
   "metadata": {},
   "outputs": [
    {
     "data": {
      "text/plain": [
       "array([[ 0.,  0.,  5., 13.,  9.,  1.,  0.,  0.],\n",
       "       [ 0.,  0., 13., 15., 10., 15.,  5.,  0.],\n",
       "       [ 0.,  3., 15.,  2.,  0., 11.,  8.,  0.],\n",
       "       [ 0.,  4., 12.,  0.,  0.,  8.,  8.,  0.],\n",
       "       [ 0.,  5.,  8.,  0.,  0.,  9.,  8.,  0.],\n",
       "       [ 0.,  4., 11.,  0.,  1., 12.,  7.,  0.],\n",
       "       [ 0.,  2., 14.,  5., 10., 12.,  0.,  0.],\n",
       "       [ 0.,  0.,  6., 13., 10.,  0.,  0.,  0.]])"
      ]
     },
     "execution_count": 6,
     "metadata": {},
     "output_type": "execute_result"
    }
   ],
   "source": [
    "dataset.data[0].reshape(8,8)"
   ]
  },
  {
   "cell_type": "code",
   "execution_count": 7,
   "id": "d8cd17f3",
   "metadata": {
    "scrolled": false
   },
   "outputs": [
    {
     "data": {
      "text/plain": [
       "<matplotlib.image.AxesImage at 0x1ec201ac940>"
      ]
     },
     "execution_count": 7,
     "metadata": {},
     "output_type": "execute_result"
    },
    {
     "data": {
      "text/plain": [
       "<Figure size 640x480 with 0 Axes>"
      ]
     },
     "metadata": {},
     "output_type": "display_data"
    },
    {
     "data": {
      "image/png": "[encoded data removed]",
      "text/plain": [
       "<Figure size 480x480 with 1 Axes>"
      ]
     },
     "metadata": {},
     "output_type": "display_data"
    }
   ],
   "source": [
    "# Plotting the black & white image 8px x8px\n",
    "plt.gray()\n",
    "plt.matshow(dataset.data[0].reshape(8,8))"
   ]
  },
  {
   "cell_type": "markdown",
   "id": "ff360ee2",
   "metadata": {},
   "source": [
    "The first image represents $0$"
   ]
  },
  {
   "cell_type": "code",
   "execution_count": 8,
   "id": "886a6d7b",
   "metadata": {},
   "outputs": [
    {
     "data": {
      "text/plain": [
       "True"
      ]
     },
     "execution_count": 8,
     "metadata": {},
     "output_type": "execute_result"
    }
   ],
   "source": [
    "(dataset.images[0] == dataset.data[0].reshape(8,8)).all()"
   ]
  },
  {
   "cell_type": "code",
   "execution_count": 9,
   "id": "1c11f06c",
   "metadata": {},
   "outputs": [
    {
     "data": {
      "text/plain": [
       "<matplotlib.image.AxesImage at 0x1ec233bef80>"
      ]
     },
     "execution_count": 9,
     "metadata": {},
     "output_type": "execute_result"
    },
    {
     "data": {
      "image/png": "[encoded data removed]",
      "text/plain": [
       "<Figure size 480x480 with 1 Axes>"
      ]
     },
     "metadata": {},
     "output_type": "display_data"
    }
   ],
   "source": [
    "plt.matshow(dataset.data[9].reshape(8,8))"
   ]
  },
  {
   "cell_type": "markdown",
   "id": "ae2a0c77",
   "metadata": {},
   "source": [
    "`dataset.data[9]` represents $9$"
   ]
  },
  {
   "cell_type": "code",
   "execution_count": 10,
   "id": "9120c6cc",
   "metadata": {},
   "outputs": [
    {
     "data": {
      "text/plain": [
       "array([0, 1, 2, ..., 8, 9, 8])"
      ]
     },
     "execution_count": 10,
     "metadata": {},
     "output_type": "execute_result"
    }
   ],
   "source": [
    "dataset.target"
   ]
  },
  {
   "cell_type": "code",
   "execution_count": 11,
   "id": "5b0a89ce",
   "metadata": {},
   "outputs": [
    {
     "name": "stdout",
     "output_type": "stream",
     "text": [
      "We have 1797 examples, and 1797 targets, each example is tied to a target\n"
     ]
    }
   ],
   "source": [
    "print(f\"We have {dataset.data.shape[0]} examples, and {len(dataset.target)} targets, each example is tied to a target\")"
   ]
  },
  {
   "cell_type": "markdown",
   "id": "fa41ed04",
   "metadata": {},
   "source": [
    "Let's convert the `data` (which represents the features) in `dataset` into a dataframe :"
   ]
  },
  {
   "cell_type": "code",
   "execution_count": 12,
   "id": "eb62869b",
   "metadata": {
    "scrolled": true
   },
   "outputs": [
    {
     "data": {
      "text/html": [
       "<div>\n",
       "<style scoped>\n",
       "    .dataframe tbody tr th:only-of-type {\n",
       "        vertical-align: middle;\n",
       "    }\n",
       "\n",
       "    .dataframe tbody tr th {\n",
       "        vertical-align: top;\n",
       "    }\n",
       "\n",
       "    .dataframe thead th {\n",
       "        text-align: right;\n",
       "    }\n",
       "</style>\n",
       "<table border=\"1\" class=\"dataframe\">\n",
       "  <thead>\n",
       "    <tr style=\"text-align: right;\">\n",
       "      <th></th>\n",
       "      <th>pixel_0_0</th>\n",
       "      <th>pixel_0_1</th>\n",
       "      <th>pixel_0_2</th>\n",
       "      <th>pixel_0_3</th>\n",
       "      <th>pixel_0_4</th>\n",
       "      <th>pixel_0_5</th>\n",
       "      <th>pixel_0_6</th>\n",
       "      <th>pixel_0_7</th>\n",
       "      <th>pixel_1_0</th>\n",
       "      <th>pixel_1_1</th>\n",
       "      <th>...</th>\n",
       "      <th>pixel_6_6</th>\n",
       "      <th>pixel_6_7</th>\n",
       "      <th>pixel_7_0</th>\n",
       "      <th>pixel_7_1</th>\n",
       "      <th>pixel_7_2</th>\n",
       "      <th>pixel_7_3</th>\n",
       "      <th>pixel_7_4</th>\n",
       "      <th>pixel_7_5</th>\n",
       "      <th>pixel_7_6</th>\n",
       "      <th>pixel_7_7</th>\n",
       "    </tr>\n",
       "  </thead>\n",
       "  <tbody>\n",
       "    <tr>\n",
       "      <th>0</th>\n",
       "      <td>0.0</td>\n",
       "      <td>0.0</td>\n",
       "      <td>5.0</td>\n",
       "      <td>13.0</td>\n",
       "      <td>9.0</td>\n",
       "      <td>1.0</td>\n",
       "      <td>0.0</td>\n",
       "      <td>0.0</td>\n",
       "      <td>0.0</td>\n",
       "      <td>0.0</td>\n",
       "      <td>...</td>\n",
       "      <td>0.0</td>\n",
       "      <td>0.0</td>\n",
       "      <td>0.0</td>\n",
       "      <td>0.0</td>\n",
       "      <td>6.0</td>\n",
       "      <td>13.0</td>\n",
       "      <td>10.0</td>\n",
       "      <td>0.0</td>\n",
       "      <td>0.0</td>\n",
       "      <td>0.0</td>\n",
       "    </tr>\n",
       "    <tr>\n",
       "      <th>1</th>\n",
       "      <td>0.0</td>\n",
       "      <td>0.0</td>\n",
       "      <td>0.0</td>\n",
       "      <td>12.0</td>\n",
       "      <td>13.0</td>\n",
       "      <td>5.0</td>\n",
       "      <td>0.0</td>\n",
       "      <td>0.0</td>\n",
       "      <td>0.0</td>\n",
       "      <td>0.0</td>\n",
       "      <td>...</td>\n",
       "      <td>0.0</td>\n",
       "      <td>0.0</td>\n",
       "      <td>0.0</td>\n",
       "      <td>0.0</td>\n",
       "      <td>0.0</td>\n",
       "      <td>11.0</td>\n",
       "      <td>16.0</td>\n",
       "      <td>10.0</td>\n",
       "      <td>0.0</td>\n",
       "      <td>0.0</td>\n",
       "    </tr>\n",
       "    <tr>\n",
       "      <th>2</th>\n",
       "      <td>0.0</td>\n",
       "      <td>0.0</td>\n",
       "      <td>0.0</td>\n",
       "      <td>4.0</td>\n",
       "      <td>15.0</td>\n",
       "      <td>12.0</td>\n",
       "      <td>0.0</td>\n",
       "      <td>0.0</td>\n",
       "      <td>0.0</td>\n",
       "      <td>0.0</td>\n",
       "      <td>...</td>\n",
       "      <td>5.0</td>\n",
       "      <td>0.0</td>\n",
       "      <td>0.0</td>\n",
       "      <td>0.0</td>\n",
       "      <td>0.0</td>\n",
       "      <td>3.0</td>\n",
       "      <td>11.0</td>\n",
       "      <td>16.0</td>\n",
       "      <td>9.0</td>\n",
       "      <td>0.0</td>\n",
       "    </tr>\n",
       "    <tr>\n",
       "      <th>3</th>\n",
       "      <td>0.0</td>\n",
       "      <td>0.0</td>\n",
       "      <td>7.0</td>\n",
       "      <td>15.0</td>\n",
       "      <td>13.0</td>\n",
       "      <td>1.0</td>\n",
       "      <td>0.0</td>\n",
       "      <td>0.0</td>\n",
       "      <td>0.0</td>\n",
       "      <td>8.0</td>\n",
       "      <td>...</td>\n",
       "      <td>9.0</td>\n",
       "      <td>0.0</td>\n",
       "      <td>0.0</td>\n",
       "      <td>0.0</td>\n",
       "      <td>7.0</td>\n",
       "      <td>13.0</td>\n",
       "      <td>13.0</td>\n",
       "      <td>9.0</td>\n",
       "      <td>0.0</td>\n",
       "      <td>0.0</td>\n",
       "    </tr>\n",
       "    <tr>\n",
       "      <th>4</th>\n",
       "      <td>0.0</td>\n",
       "      <td>0.0</td>\n",
       "      <td>0.0</td>\n",
       "      <td>1.0</td>\n",
       "      <td>11.0</td>\n",
       "      <td>0.0</td>\n",
       "      <td>0.0</td>\n",
       "      <td>0.0</td>\n",
       "      <td>0.0</td>\n",
       "      <td>0.0</td>\n",
       "      <td>...</td>\n",
       "      <td>0.0</td>\n",
       "      <td>0.0</td>\n",
       "      <td>0.0</td>\n",
       "      <td>0.0</td>\n",
       "      <td>0.0</td>\n",
       "      <td>2.0</td>\n",
       "      <td>16.0</td>\n",
       "      <td>4.0</td>\n",
       "      <td>0.0</td>\n",
       "      <td>0.0</td>\n",
       "    </tr>\n",
       "  </tbody>\n",
       "</table>\n",
       "<p>5 rows × 64 columns</p>\n",
       "</div>"
      ],
      "text/plain": [
       "   pixel_0_0  pixel_0_1  pixel_0_2  pixel_0_3  pixel_0_4  pixel_0_5  \\\n",
       "0        0.0        0.0        5.0       13.0        9.0        1.0   \n",
       "1        0.0        0.0        0.0       12.0       13.0        5.0   \n",
       "2        0.0        0.0        0.0        4.0       15.0       12.0   \n",
       "3        0.0        0.0        7.0       15.0       13.0        1.0   \n",
       "4        0.0        0.0        0.0        1.0       11.0        0.0   \n",
       "\n",
       "   pixel_0_6  pixel_0_7  pixel_1_0  pixel_1_1  ...  pixel_6_6  pixel_6_7  \\\n",
       "0        0.0        0.0        0.0        0.0  ...        0.0        0.0   \n",
       "1        0.0        0.0        0.0        0.0  ...        0.0        0.0   \n",
       "2        0.0        0.0        0.0        0.0  ...        5.0        0.0   \n",
       "3        0.0        0.0        0.0        8.0  ...        9.0        0.0   \n",
       "4        0.0        0.0        0.0        0.0  ...        0.0        0.0   \n",
       "\n",
       "   pixel_7_0  pixel_7_1  pixel_7_2  pixel_7_3  pixel_7_4  pixel_7_5  \\\n",
       "0        0.0        0.0        6.0       13.0       10.0        0.0   \n",
       "1        0.0        0.0        0.0       11.0       16.0       10.0   \n",
       "2        0.0        0.0        0.0        3.0       11.0       16.0   \n",
       "3        0.0        0.0        7.0       13.0       13.0        9.0   \n",
       "4        0.0        0.0        0.0        2.0       16.0        4.0   \n",
       "\n",
       "   pixel_7_6  pixel_7_7  \n",
       "0        0.0        0.0  \n",
       "1        0.0        0.0  \n",
       "2        9.0        0.0  \n",
       "3        0.0        0.0  \n",
       "4        0.0        0.0  \n",
       "\n",
       "[5 rows x 64 columns]"
      ]
     },
     "execution_count": 12,
     "metadata": {},
     "output_type": "execute_result"
    }
   ],
   "source": [
    "df = pd.DataFrame(data = dataset.data,\n",
    "                 columns = dataset.feature_names)\n",
    "\n",
    "df.head()"
   ]
  },
  {
   "cell_type": "code",
   "execution_count": 13,
   "id": "6994f4bb",
   "metadata": {},
   "outputs": [
    {
     "name": "stdout",
     "output_type": "stream",
     "text": [
      "<class 'pandas.core.frame.DataFrame'>\n",
      "RangeIndex: 1797 entries, 0 to 1796\n",
      "Data columns (total 64 columns):\n",
      " #   Column     Non-Null Count  Dtype  \n",
      "---  ------     --------------  -----  \n",
      " 0   pixel_0_0  1797 non-null   float64\n",
      " 1   pixel_0_1  1797 non-null   float64\n",
      " 2   pixel_0_2  1797 non-null   float64\n",
      " 3   pixel_0_3  1797 non-null   float64\n",
      " 4   pixel_0_4  1797 non-null   float64\n",
      " 5   pixel_0_5  1797 non-null   float64\n",
      " 6   pixel_0_6  1797 non-null   float64\n",
      " 7   pixel_0_7  1797 non-null   float64\n",
      " 8   pixel_1_0  1797 non-null   float64\n",
      " 9   pixel_1_1  1797 non-null   float64\n",
      " 10  pixel_1_2  1797 non-null   float64\n",
      " 11  pixel_1_3  1797 non-null   float64\n",
      " 12  pixel_1_4  1797 non-null   float64\n",
      " 13  pixel_1_5  1797 non-null   float64\n",
      " 14  pixel_1_6  1797 non-null   float64\n",
      " 15  pixel_1_7  1797 non-null   float64\n",
      " 16  pixel_2_0  1797 non-null   float64\n",
      " 17  pixel_2_1  1797 non-null   float64\n",
      " 18  pixel_2_2  1797 non-null   float64\n",
      " 19  pixel_2_3  1797 non-null   float64\n",
      " 20  pixel_2_4  1797 non-null   float64\n",
      " 21  pixel_2_5  1797 non-null   float64\n",
      " 22  pixel_2_6  1797 non-null   float64\n",
      " 23  pixel_2_7  1797 non-null   float64\n",
      " 24  pixel_3_0  1797 non-null   float64\n",
      " 25  pixel_3_1  1797 non-null   float64\n",
      " 26  pixel_3_2  1797 non-null   float64\n",
      " 27  pixel_3_3  1797 non-null   float64\n",
      " 28  pixel_3_4  1797 non-null   float64\n",
      " 29  pixel_3_5  1797 non-null   float64\n",
      " 30  pixel_3_6  1797 non-null   float64\n",
      " 31  pixel_3_7  1797 non-null   float64\n",
      " 32  pixel_4_0  1797 non-null   float64\n",
      " 33  pixel_4_1  1797 non-null   float64\n",
      " 34  pixel_4_2  1797 non-null   float64\n",
      " 35  pixel_4_3  1797 non-null   float64\n",
      " 36  pixel_4_4  1797 non-null   float64\n",
      " 37  pixel_4_5  1797 non-null   float64\n",
      " 38  pixel_4_6  1797 non-null   float64\n",
      " 39  pixel_4_7  1797 non-null   float64\n",
      " 40  pixel_5_0  1797 non-null   float64\n",
      " 41  pixel_5_1  1797 non-null   float64\n",
      " 42  pixel_5_2  1797 non-null   float64\n",
      " 43  pixel_5_3  1797 non-null   float64\n",
      " 44  pixel_5_4  1797 non-null   float64\n",
      " 45  pixel_5_5  1797 non-null   float64\n",
      " 46  pixel_5_6  1797 non-null   float64\n",
      " 47  pixel_5_7  1797 non-null   float64\n",
      " 48  pixel_6_0  1797 non-null   float64\n",
      " 49  pixel_6_1  1797 non-null   float64\n",
      " 50  pixel_6_2  1797 non-null   float64\n",
      " 51  pixel_6_3  1797 non-null   float64\n",
      " 52  pixel_6_4  1797 non-null   float64\n",
      " 53  pixel_6_5  1797 non-null   float64\n",
      " 54  pixel_6_6  1797 non-null   float64\n",
      " 55  pixel_6_7  1797 non-null   float64\n",
      " 56  pixel_7_0  1797 non-null   float64\n",
      " 57  pixel_7_1  1797 non-null   float64\n",
      " 58  pixel_7_2  1797 non-null   float64\n",
      " 59  pixel_7_3  1797 non-null   float64\n",
      " 60  pixel_7_4  1797 non-null   float64\n",
      " 61  pixel_7_5  1797 non-null   float64\n",
      " 62  pixel_7_6  1797 non-null   float64\n",
      " 63  pixel_7_7  1797 non-null   float64\n",
      "dtypes: float64(64)\n",
      "memory usage: 898.6 KB\n"
     ]
    }
   ],
   "source": [
    "df.info()"
   ]
  },
  {
   "cell_type": "code",
   "execution_count": 14,
   "id": "ae080be5",
   "metadata": {
    "scrolled": true
   },
   "outputs": [
    {
     "data": {
      "text/html": [
       "<div>\n",
       "<style scoped>\n",
       "    .dataframe tbody tr th:only-of-type {\n",
       "        vertical-align: middle;\n",
       "    }\n",
       "\n",
       "    .dataframe tbody tr th {\n",
       "        vertical-align: top;\n",
       "    }\n",
       "\n",
       "    .dataframe thead th {\n",
       "        text-align: right;\n",
       "    }\n",
       "</style>\n",
       "<table border=\"1\" class=\"dataframe\">\n",
       "  <thead>\n",
       "    <tr style=\"text-align: right;\">\n",
       "      <th></th>\n",
       "      <th>pixel_0_0</th>\n",
       "      <th>pixel_0_1</th>\n",
       "      <th>pixel_0_2</th>\n",
       "      <th>pixel_0_3</th>\n",
       "      <th>pixel_0_4</th>\n",
       "      <th>pixel_0_5</th>\n",
       "      <th>pixel_0_6</th>\n",
       "      <th>pixel_0_7</th>\n",
       "      <th>pixel_1_0</th>\n",
       "      <th>pixel_1_1</th>\n",
       "      <th>...</th>\n",
       "      <th>pixel_6_6</th>\n",
       "      <th>pixel_6_7</th>\n",
       "      <th>pixel_7_0</th>\n",
       "      <th>pixel_7_1</th>\n",
       "      <th>pixel_7_2</th>\n",
       "      <th>pixel_7_3</th>\n",
       "      <th>pixel_7_4</th>\n",
       "      <th>pixel_7_5</th>\n",
       "      <th>pixel_7_6</th>\n",
       "      <th>pixel_7_7</th>\n",
       "    </tr>\n",
       "  </thead>\n",
       "  <tbody>\n",
       "    <tr>\n",
       "      <th>count</th>\n",
       "      <td>1797.0</td>\n",
       "      <td>1797.000000</td>\n",
       "      <td>1797.000000</td>\n",
       "      <td>1797.000000</td>\n",
       "      <td>1797.000000</td>\n",
       "      <td>1797.000000</td>\n",
       "      <td>1797.000000</td>\n",
       "      <td>1797.000000</td>\n",
       "      <td>1797.000000</td>\n",
       "      <td>1797.000000</td>\n",
       "      <td>...</td>\n",
       "      <td>1797.000000</td>\n",
       "      <td>1797.000000</td>\n",
       "      <td>1797.000000</td>\n",
       "      <td>1797.000000</td>\n",
       "      <td>1797.000000</td>\n",
       "      <td>1797.000000</td>\n",
       "      <td>1797.000000</td>\n",
       "      <td>1797.000000</td>\n",
       "      <td>1797.000000</td>\n",
       "      <td>1797.000000</td>\n",
       "    </tr>\n",
       "    <tr>\n",
       "      <th>mean</th>\n",
       "      <td>0.0</td>\n",
       "      <td>0.303840</td>\n",
       "      <td>5.204786</td>\n",
       "      <td>11.835838</td>\n",
       "      <td>11.848080</td>\n",
       "      <td>5.781859</td>\n",
       "      <td>1.362270</td>\n",
       "      <td>0.129661</td>\n",
       "      <td>0.005565</td>\n",
       "      <td>1.993879</td>\n",
       "      <td>...</td>\n",
       "      <td>3.725097</td>\n",
       "      <td>0.206455</td>\n",
       "      <td>0.000556</td>\n",
       "      <td>0.279354</td>\n",
       "      <td>5.557596</td>\n",
       "      <td>12.089037</td>\n",
       "      <td>11.809126</td>\n",
       "      <td>6.764051</td>\n",
       "      <td>2.067891</td>\n",
       "      <td>0.364496</td>\n",
       "    </tr>\n",
       "    <tr>\n",
       "      <th>std</th>\n",
       "      <td>0.0</td>\n",
       "      <td>0.907192</td>\n",
       "      <td>4.754826</td>\n",
       "      <td>4.248842</td>\n",
       "      <td>4.287388</td>\n",
       "      <td>5.666418</td>\n",
       "      <td>3.325775</td>\n",
       "      <td>1.037383</td>\n",
       "      <td>0.094222</td>\n",
       "      <td>3.196160</td>\n",
       "      <td>...</td>\n",
       "      <td>4.919406</td>\n",
       "      <td>0.984401</td>\n",
       "      <td>0.023590</td>\n",
       "      <td>0.934302</td>\n",
       "      <td>5.103019</td>\n",
       "      <td>4.374694</td>\n",
       "      <td>4.933947</td>\n",
       "      <td>5.900623</td>\n",
       "      <td>4.090548</td>\n",
       "      <td>1.860122</td>\n",
       "    </tr>\n",
       "    <tr>\n",
       "      <th>min</th>\n",
       "      <td>0.0</td>\n",
       "      <td>0.000000</td>\n",
       "      <td>0.000000</td>\n",
       "      <td>0.000000</td>\n",
       "      <td>0.000000</td>\n",
       "      <td>0.000000</td>\n",
       "      <td>0.000000</td>\n",
       "      <td>0.000000</td>\n",
       "      <td>0.000000</td>\n",
       "      <td>0.000000</td>\n",
       "      <td>...</td>\n",
       "      <td>0.000000</td>\n",
       "      <td>0.000000</td>\n",
       "      <td>0.000000</td>\n",
       "      <td>0.000000</td>\n",
       "      <td>0.000000</td>\n",
       "      <td>0.000000</td>\n",
       "      <td>0.000000</td>\n",
       "      <td>0.000000</td>\n",
       "      <td>0.000000</td>\n",
       "      <td>0.000000</td>\n",
       "    </tr>\n",
       "    <tr>\n",
       "      <th>25%</th>\n",
       "      <td>0.0</td>\n",
       "      <td>0.000000</td>\n",
       "      <td>1.000000</td>\n",
       "      <td>10.000000</td>\n",
       "      <td>10.000000</td>\n",
       "      <td>0.000000</td>\n",
       "      <td>0.000000</td>\n",
       "      <td>0.000000</td>\n",
       "      <td>0.000000</td>\n",
       "      <td>0.000000</td>\n",
       "      <td>...</td>\n",
       "      <td>0.000000</td>\n",
       "      <td>0.000000</td>\n",
       "      <td>0.000000</td>\n",
       "      <td>0.000000</td>\n",
       "      <td>1.000000</td>\n",
       "      <td>11.000000</td>\n",
       "      <td>10.000000</td>\n",
       "      <td>0.000000</td>\n",
       "      <td>0.000000</td>\n",
       "      <td>0.000000</td>\n",
       "    </tr>\n",
       "    <tr>\n",
       "      <th>50%</th>\n",
       "      <td>0.0</td>\n",
       "      <td>0.000000</td>\n",
       "      <td>4.000000</td>\n",
       "      <td>13.000000</td>\n",
       "      <td>13.000000</td>\n",
       "      <td>4.000000</td>\n",
       "      <td>0.000000</td>\n",
       "      <td>0.000000</td>\n",
       "      <td>0.000000</td>\n",
       "      <td>0.000000</td>\n",
       "      <td>...</td>\n",
       "      <td>1.000000</td>\n",
       "      <td>0.000000</td>\n",
       "      <td>0.000000</td>\n",
       "      <td>0.000000</td>\n",
       "      <td>4.000000</td>\n",
       "      <td>13.000000</td>\n",
       "      <td>14.000000</td>\n",
       "      <td>6.000000</td>\n",
       "      <td>0.000000</td>\n",
       "      <td>0.000000</td>\n",
       "    </tr>\n",
       "    <tr>\n",
       "      <th>75%</th>\n",
       "      <td>0.0</td>\n",
       "      <td>0.000000</td>\n",
       "      <td>9.000000</td>\n",
       "      <td>15.000000</td>\n",
       "      <td>15.000000</td>\n",
       "      <td>11.000000</td>\n",
       "      <td>0.000000</td>\n",
       "      <td>0.000000</td>\n",
       "      <td>0.000000</td>\n",
       "      <td>3.000000</td>\n",
       "      <td>...</td>\n",
       "      <td>7.000000</td>\n",
       "      <td>0.000000</td>\n",
       "      <td>0.000000</td>\n",
       "      <td>0.000000</td>\n",
       "      <td>10.000000</td>\n",
       "      <td>16.000000</td>\n",
       "      <td>16.000000</td>\n",
       "      <td>12.000000</td>\n",
       "      <td>2.000000</td>\n",
       "      <td>0.000000</td>\n",
       "    </tr>\n",
       "    <tr>\n",
       "      <th>max</th>\n",
       "      <td>0.0</td>\n",
       "      <td>8.000000</td>\n",
       "      <td>16.000000</td>\n",
       "      <td>16.000000</td>\n",
       "      <td>16.000000</td>\n",
       "      <td>16.000000</td>\n",
       "      <td>16.000000</td>\n",
       "      <td>15.000000</td>\n",
       "      <td>2.000000</td>\n",
       "      <td>16.000000</td>\n",
       "      <td>...</td>\n",
       "      <td>16.000000</td>\n",
       "      <td>13.000000</td>\n",
       "      <td>1.000000</td>\n",
       "      <td>9.000000</td>\n",
       "      <td>16.000000</td>\n",
       "      <td>16.000000</td>\n",
       "      <td>16.000000</td>\n",
       "      <td>16.000000</td>\n",
       "      <td>16.000000</td>\n",
       "      <td>16.000000</td>\n",
       "    </tr>\n",
       "  </tbody>\n",
       "</table>\n",
       "<p>8 rows × 64 columns</p>\n",
       "</div>"
      ],
      "text/plain": [
       "       pixel_0_0    pixel_0_1    pixel_0_2    pixel_0_3    pixel_0_4  \\\n",
       "count     1797.0  1797.000000  1797.000000  1797.000000  1797.000000   \n",
       "mean         0.0     0.303840     5.204786    11.835838    11.848080   \n",
       "std          0.0     0.907192     4.754826     4.248842     4.287388   \n",
       "min          0.0     0.000000     0.000000     0.000000     0.000000   \n",
       "25%          0.0     0.000000     1.000000    10.000000    10.000000   \n",
       "50%          0.0     0.000000     4.000000    13.000000    13.000000   \n",
       "75%          0.0     0.000000     9.000000    15.000000    15.000000   \n",
       "max          0.0     8.000000    16.000000    16.000000    16.000000   \n",
       "\n",
       "         pixel_0_5    pixel_0_6    pixel_0_7    pixel_1_0    pixel_1_1  ...  \\\n",
       "count  1797.000000  1797.000000  1797.000000  1797.000000  1797.000000  ...   \n",
       "mean      5.781859     1.362270     0.129661     0.005565     1.993879  ...   \n",
       "std       5.666418     3.325775     1.037383     0.094222     3.196160  ...   \n",
       "min       0.000000     0.000000     0.000000     0.000000     0.000000  ...   \n",
       "25%       0.000000     0.000000     0.000000     0.000000     0.000000  ...   \n",
       "50%       4.000000     0.000000     0.000000     0.000000     0.000000  ...   \n",
       "75%      11.000000     0.000000     0.000000     0.000000     3.000000  ...   \n",
       "max      16.000000    16.000000    15.000000     2.000000    16.000000  ...   \n",
       "\n",
       "         pixel_6_6    pixel_6_7    pixel_7_0    pixel_7_1    pixel_7_2  \\\n",
       "count  1797.000000  1797.000000  1797.000000  1797.000000  1797.000000   \n",
       "mean      3.725097     0.206455     0.000556     0.279354     5.557596   \n",
       "std       4.919406     0.984401     0.023590     0.934302     5.103019   \n",
       "min       0.000000     0.000000     0.000000     0.000000     0.000000   \n",
       "25%       0.000000     0.000000     0.000000     0.000000     1.000000   \n",
       "50%       1.000000     0.000000     0.000000     0.000000     4.000000   \n",
       "75%       7.000000     0.000000     0.000000     0.000000    10.000000   \n",
       "max      16.000000    13.000000     1.000000     9.000000    16.000000   \n",
       "\n",
       "         pixel_7_3    pixel_7_4    pixel_7_5    pixel_7_6    pixel_7_7  \n",
       "count  1797.000000  1797.000000  1797.000000  1797.000000  1797.000000  \n",
       "mean     12.089037    11.809126     6.764051     2.067891     0.364496  \n",
       "std       4.374694     4.933947     5.900623     4.090548     1.860122  \n",
       "min       0.000000     0.000000     0.000000     0.000000     0.000000  \n",
       "25%      11.000000    10.000000     0.000000     0.000000     0.000000  \n",
       "50%      13.000000    14.000000     6.000000     0.000000     0.000000  \n",
       "75%      16.000000    16.000000    12.000000     2.000000     0.000000  \n",
       "max      16.000000    16.000000    16.000000    16.000000    16.000000  \n",
       "\n",
       "[8 rows x 64 columns]"
      ]
     },
     "execution_count": 14,
     "metadata": {},
     "output_type": "execute_result"
    }
   ],
   "source": [
    "df.describe()"
   ]
  },
  {
   "cell_type": "markdown",
   "id": "1be796c4",
   "metadata": {},
   "source": [
    "The first thing we can say is that the variables are not standardized nor normalized, so we need to do that later on."
   ]
  },
  {
   "cell_type": "markdown",
   "id": "a30962e4",
   "metadata": {},
   "source": [
    "# 3) Preprocessing the data"
   ]
  },
  {
   "cell_type": "code",
   "execution_count": 15,
   "id": "36ab66f3",
   "metadata": {},
   "outputs": [],
   "source": [
    "# Features & target\n",
    "X = df\n",
    "y = dataset.target"
   ]
  },
  {
   "cell_type": "code",
   "execution_count": 16,
   "id": "2220ad2b",
   "metadata": {},
   "outputs": [
    {
     "data": {
      "text/plain": [
       "array([[ 0.        , -0.33501649, -0.04308102, ..., -1.14664746,\n",
       "        -0.5056698 , -0.19600752],\n",
       "       [ 0.        , -0.33501649, -1.09493684, ...,  0.54856067,\n",
       "        -0.5056698 , -0.19600752],\n",
       "       [ 0.        , -0.33501649, -1.09493684, ...,  1.56568555,\n",
       "         1.6951369 , -0.19600752],\n",
       "       ...,\n",
       "       [ 0.        , -0.33501649, -0.88456568, ..., -0.12952258,\n",
       "        -0.5056698 , -0.19600752],\n",
       "       [ 0.        , -0.33501649, -0.67419451, ...,  0.8876023 ,\n",
       "        -0.5056698 , -0.19600752],\n",
       "       [ 0.        , -0.33501649,  1.00877481, ...,  0.8876023 ,\n",
       "        -0.26113572, -0.19600752]])"
      ]
     },
     "execution_count": 16,
     "metadata": {},
     "output_type": "execute_result"
    }
   ],
   "source": [
    "from sklearn.preprocessing import StandardScaler\n",
    "\n",
    "scaler = StandardScaler()\n",
    "# Normalizing the features :\n",
    "X_scaled = scaler.fit_transform(X)\n",
    "X_scaled"
   ]
  },
  {
   "cell_type": "code",
   "execution_count": 17,
   "id": "fae73606",
   "metadata": {
    "scrolled": true
   },
   "outputs": [
    {
     "data": {
      "text/plain": [
       "numpy.ndarray"
      ]
     },
     "execution_count": 17,
     "metadata": {},
     "output_type": "execute_result"
    }
   ],
   "source": [
    "# 'X_scaled' is a numpy array\n",
    "type(X_scaled)"
   ]
  },
  {
   "cell_type": "code",
   "execution_count": 18,
   "id": "a1d63989",
   "metadata": {},
   "outputs": [
    {
     "name": "stdout",
     "output_type": "stream",
     "text": [
      "[ 0.00000000e+00 -2.56086502e-16 -2.34771702e-16 -3.05326777e-16\n",
      "  1.39689163e-16 -3.16941798e-16 -9.59598443e-16  6.06946633e-16\n",
      " -4.62368967e-16  7.55084971e-17 -5.33796713e-17  5.71483749e-17\n",
      "  4.52862258e-17 -1.49512505e-17  8.96580775e-16 -2.17719863e-16\n",
      " -6.87973761e-16 -7.70421876e-17  2.59978769e-16  2.32547550e-16\n",
      "  1.05878949e-16 -1.40863021e-16 -1.15408826e-16 -2.26477465e-16\n",
      "  4.51109193e-16  3.79341646e-17 -7.71657517e-17 -9.60092699e-17\n",
      " -8.72980041e-17 -1.50624582e-16 -1.05597840e-15 -2.52140175e-16\n",
      "  0.00000000e+00  3.42148865e-16  1.21710593e-16 -1.07871419e-16\n",
      " -2.00606242e-16 -1.09354188e-17 -7.12964591e-17  0.00000000e+00\n",
      "  3.00716294e-16 -1.74657790e-16  4.03436636e-16  1.92111213e-16\n",
      "  2.61337974e-17  5.38739275e-17  4.71396866e-17  8.63759074e-16\n",
      "  2.62048467e-16  3.33128689e-16  8.36528645e-17  1.98775949e-16\n",
      "  4.61017485e-16  5.01670059e-17  4.71582212e-16 -4.92032063e-16\n",
      "  2.25353805e-16  3.44125890e-16  5.95269830e-17 -6.11460582e-16\n",
      " -5.19092591e-16  1.69529882e-16  1.78797186e-16 -6.83896148e-16]\n",
      "[0. 1. 1. 1. 1. 1. 1. 1. 1. 1. 1. 1. 1. 1. 1. 1. 1. 1. 1. 1. 1. 1. 1. 1.\n",
      " 1. 1. 1. 1. 1. 1. 1. 1. 0. 1. 1. 1. 1. 1. 1. 0. 1. 1. 1. 1. 1. 1. 1. 1.\n",
      " 1. 1. 1. 1. 1. 1. 1. 1. 1. 1. 1. 1. 1. 1. 1. 1.]\n"
     ]
    }
   ],
   "source": [
    "# The mean and standard deviation across each feature\n",
    "print(X_scaled.mean(0))\n",
    "print(X_scaled.std(0))"
   ]
  },
  {
   "cell_type": "code",
   "execution_count": 19,
   "id": "38a22c77",
   "metadata": {},
   "outputs": [
    {
     "name": "stdout",
     "output_type": "stream",
     "text": [
      "(1797, 64)\n",
      "(64,)\n"
     ]
    }
   ],
   "source": [
    "print(X_scaled.shape)\n",
    "print(X_scaled.mean(0).shape)"
   ]
  },
  {
   "cell_type": "code",
   "execution_count": 20,
   "id": "f4d21097",
   "metadata": {},
   "outputs": [
    {
     "data": {
      "text/html": [
       "<div>\n",
       "<style scoped>\n",
       "    .dataframe tbody tr th:only-of-type {\n",
       "        vertical-align: middle;\n",
       "    }\n",
       "\n",
       "    .dataframe tbody tr th {\n",
       "        vertical-align: top;\n",
       "    }\n",
       "\n",
       "    .dataframe thead th {\n",
       "        text-align: right;\n",
       "    }\n",
       "</style>\n",
       "<table border=\"1\" class=\"dataframe\">\n",
       "  <thead>\n",
       "    <tr style=\"text-align: right;\">\n",
       "      <th></th>\n",
       "      <th>pixel_0_0</th>\n",
       "      <th>pixel_0_1</th>\n",
       "      <th>pixel_0_2</th>\n",
       "      <th>pixel_0_3</th>\n",
       "      <th>pixel_0_4</th>\n",
       "      <th>pixel_0_5</th>\n",
       "      <th>pixel_0_6</th>\n",
       "      <th>pixel_0_7</th>\n",
       "      <th>pixel_1_0</th>\n",
       "      <th>pixel_1_1</th>\n",
       "      <th>...</th>\n",
       "      <th>pixel_6_6</th>\n",
       "      <th>pixel_6_7</th>\n",
       "      <th>pixel_7_0</th>\n",
       "      <th>pixel_7_1</th>\n",
       "      <th>pixel_7_2</th>\n",
       "      <th>pixel_7_3</th>\n",
       "      <th>pixel_7_4</th>\n",
       "      <th>pixel_7_5</th>\n",
       "      <th>pixel_7_6</th>\n",
       "      <th>pixel_7_7</th>\n",
       "    </tr>\n",
       "  </thead>\n",
       "  <tbody>\n",
       "    <tr>\n",
       "      <th>count</th>\n",
       "      <td>1797.0</td>\n",
       "      <td>1.797000e+03</td>\n",
       "      <td>1.797000e+03</td>\n",
       "      <td>1.797000e+03</td>\n",
       "      <td>1.797000e+03</td>\n",
       "      <td>1.797000e+03</td>\n",
       "      <td>1797.000000</td>\n",
       "      <td>1.797000e+03</td>\n",
       "      <td>1.797000e+03</td>\n",
       "      <td>1.797000e+03</td>\n",
       "      <td>...</td>\n",
       "      <td>1.797000e+03</td>\n",
       "      <td>1.797000e+03</td>\n",
       "      <td>1.797000e+03</td>\n",
       "      <td>1.797000e+03</td>\n",
       "      <td>1.797000e+03</td>\n",
       "      <td>1.797000e+03</td>\n",
       "      <td>1.797000e+03</td>\n",
       "      <td>1.797000e+03</td>\n",
       "      <td>1.797000e+03</td>\n",
       "      <td>1.797000e+03</td>\n",
       "    </tr>\n",
       "    <tr>\n",
       "      <th>mean</th>\n",
       "      <td>0.0</td>\n",
       "      <td>-6.326480e-17</td>\n",
       "      <td>7.908099e-17</td>\n",
       "      <td>3.163240e-17</td>\n",
       "      <td>-5.535670e-17</td>\n",
       "      <td>-5.535670e-17</td>\n",
       "      <td>0.000000</td>\n",
       "      <td>1.581620e-17</td>\n",
       "      <td>-2.767835e-17</td>\n",
       "      <td>2.372430e-17</td>\n",
       "      <td>...</td>\n",
       "      <td>-7.908099e-18</td>\n",
       "      <td>2.372430e-17</td>\n",
       "      <td>-1.186215e-17</td>\n",
       "      <td>-3.954050e-17</td>\n",
       "      <td>-6.326480e-17</td>\n",
       "      <td>-1.818863e-16</td>\n",
       "      <td>4.349455e-17</td>\n",
       "      <td>4.942562e-17</td>\n",
       "      <td>9.885124e-17</td>\n",
       "      <td>1.581620e-17</td>\n",
       "    </tr>\n",
       "    <tr>\n",
       "      <th>std</th>\n",
       "      <td>0.0</td>\n",
       "      <td>1.000278e+00</td>\n",
       "      <td>1.000278e+00</td>\n",
       "      <td>1.000278e+00</td>\n",
       "      <td>1.000278e+00</td>\n",
       "      <td>1.000278e+00</td>\n",
       "      <td>1.000278</td>\n",
       "      <td>1.000278e+00</td>\n",
       "      <td>1.000278e+00</td>\n",
       "      <td>1.000278e+00</td>\n",
       "      <td>...</td>\n",
       "      <td>1.000278e+00</td>\n",
       "      <td>1.000278e+00</td>\n",
       "      <td>1.000278e+00</td>\n",
       "      <td>1.000278e+00</td>\n",
       "      <td>1.000278e+00</td>\n",
       "      <td>1.000278e+00</td>\n",
       "      <td>1.000278e+00</td>\n",
       "      <td>1.000278e+00</td>\n",
       "      <td>1.000278e+00</td>\n",
       "      <td>1.000278e+00</td>\n",
       "    </tr>\n",
       "    <tr>\n",
       "      <th>min</th>\n",
       "      <td>0.0</td>\n",
       "      <td>-3.350165e-01</td>\n",
       "      <td>-1.094937e+00</td>\n",
       "      <td>-2.786437e+00</td>\n",
       "      <td>-2.764242e+00</td>\n",
       "      <td>-1.020657e+00</td>\n",
       "      <td>-0.409724</td>\n",
       "      <td>-1.250229e-01</td>\n",
       "      <td>-5.907756e-02</td>\n",
       "      <td>-6.240093e-01</td>\n",
       "      <td>...</td>\n",
       "      <td>-7.574358e-01</td>\n",
       "      <td>-2.097851e-01</td>\n",
       "      <td>-2.359646e-02</td>\n",
       "      <td>-2.990813e-01</td>\n",
       "      <td>-1.089383e+00</td>\n",
       "      <td>-2.764171e+00</td>\n",
       "      <td>-2.394110e+00</td>\n",
       "      <td>-1.146647e+00</td>\n",
       "      <td>-5.056698e-01</td>\n",
       "      <td>-1.960075e-01</td>\n",
       "    </tr>\n",
       "    <tr>\n",
       "      <th>25%</th>\n",
       "      <td>0.0</td>\n",
       "      <td>-3.350165e-01</td>\n",
       "      <td>-8.845657e-01</td>\n",
       "      <td>-4.321998e-01</td>\n",
       "      <td>-4.311703e-01</td>\n",
       "      <td>-1.020657e+00</td>\n",
       "      <td>-0.409724</td>\n",
       "      <td>-1.250229e-01</td>\n",
       "      <td>-5.907756e-02</td>\n",
       "      <td>-6.240093e-01</td>\n",
       "      <td>...</td>\n",
       "      <td>-7.574358e-01</td>\n",
       "      <td>-2.097851e-01</td>\n",
       "      <td>-2.359646e-02</td>\n",
       "      <td>-2.990813e-01</td>\n",
       "      <td>-8.933661e-01</td>\n",
       "      <td>-2.490095e-01</td>\n",
       "      <td>-3.667712e-01</td>\n",
       "      <td>-1.146647e+00</td>\n",
       "      <td>-5.056698e-01</td>\n",
       "      <td>-1.960075e-01</td>\n",
       "    </tr>\n",
       "    <tr>\n",
       "      <th>50%</th>\n",
       "      <td>0.0</td>\n",
       "      <td>-3.350165e-01</td>\n",
       "      <td>-2.534522e-01</td>\n",
       "      <td>2.740715e-01</td>\n",
       "      <td>2.687512e-01</td>\n",
       "      <td>-3.145470e-01</td>\n",
       "      <td>-0.409724</td>\n",
       "      <td>-1.250229e-01</td>\n",
       "      <td>-5.907756e-02</td>\n",
       "      <td>-6.240093e-01</td>\n",
       "      <td>...</td>\n",
       "      <td>-5.541027e-01</td>\n",
       "      <td>-2.097851e-01</td>\n",
       "      <td>-2.359646e-02</td>\n",
       "      <td>-2.990813e-01</td>\n",
       "      <td>-3.053152e-01</td>\n",
       "      <td>2.082926e-01</td>\n",
       "      <td>4.441644e-01</td>\n",
       "      <td>-1.295226e-01</td>\n",
       "      <td>-5.056698e-01</td>\n",
       "      <td>-1.960075e-01</td>\n",
       "    </tr>\n",
       "    <tr>\n",
       "      <th>75%</th>\n",
       "      <td>0.0</td>\n",
       "      <td>-3.350165e-01</td>\n",
       "      <td>7.984036e-01</td>\n",
       "      <td>7.449191e-01</td>\n",
       "      <td>7.353655e-01</td>\n",
       "      <td>9.211453e-01</td>\n",
       "      <td>-0.409724</td>\n",
       "      <td>-1.250229e-01</td>\n",
       "      <td>-5.907756e-02</td>\n",
       "      <td>3.148782e-01</td>\n",
       "      <td>...</td>\n",
       "      <td>6.658963e-01</td>\n",
       "      <td>-2.097851e-01</td>\n",
       "      <td>-2.359646e-02</td>\n",
       "      <td>-2.990813e-01</td>\n",
       "      <td>8.707865e-01</td>\n",
       "      <td>8.942457e-01</td>\n",
       "      <td>8.496321e-01</td>\n",
       "      <td>8.876023e-01</td>\n",
       "      <td>-1.660165e-02</td>\n",
       "      <td>-1.960075e-01</td>\n",
       "    </tr>\n",
       "    <tr>\n",
       "      <th>max</th>\n",
       "      <td>0.0</td>\n",
       "      <td>8.485857e+00</td>\n",
       "      <td>2.271002e+00</td>\n",
       "      <td>9.803428e-01</td>\n",
       "      <td>9.686727e-01</td>\n",
       "      <td>1.803783e+00</td>\n",
       "      <td>4.402524</td>\n",
       "      <td>1.433847e+01</td>\n",
       "      <td>2.117340e+01</td>\n",
       "      <td>4.383391e+00</td>\n",
       "      <td>...</td>\n",
       "      <td>2.495895e+00</td>\n",
       "      <td>1.299989e+01</td>\n",
       "      <td>4.237924e+01</td>\n",
       "      <td>9.336462e+00</td>\n",
       "      <td>2.046888e+00</td>\n",
       "      <td>8.942457e-01</td>\n",
       "      <td>8.496321e-01</td>\n",
       "      <td>1.565686e+00</td>\n",
       "      <td>3.406875e+00</td>\n",
       "      <td>8.407974e+00</td>\n",
       "    </tr>\n",
       "  </tbody>\n",
       "</table>\n",
       "<p>8 rows × 64 columns</p>\n",
       "</div>"
      ],
      "text/plain": [
       "       pixel_0_0     pixel_0_1     pixel_0_2     pixel_0_3     pixel_0_4  \\\n",
       "count     1797.0  1.797000e+03  1.797000e+03  1.797000e+03  1.797000e+03   \n",
       "mean         0.0 -6.326480e-17  7.908099e-17  3.163240e-17 -5.535670e-17   \n",
       "std          0.0  1.000278e+00  1.000278e+00  1.000278e+00  1.000278e+00   \n",
       "min          0.0 -3.350165e-01 -1.094937e+00 -2.786437e+00 -2.764242e+00   \n",
       "25%          0.0 -3.350165e-01 -8.845657e-01 -4.321998e-01 -4.311703e-01   \n",
       "50%          0.0 -3.350165e-01 -2.534522e-01  2.740715e-01  2.687512e-01   \n",
       "75%          0.0 -3.350165e-01  7.984036e-01  7.449191e-01  7.353655e-01   \n",
       "max          0.0  8.485857e+00  2.271002e+00  9.803428e-01  9.686727e-01   \n",
       "\n",
       "          pixel_0_5    pixel_0_6     pixel_0_7     pixel_1_0     pixel_1_1  \\\n",
       "count  1.797000e+03  1797.000000  1.797000e+03  1.797000e+03  1.797000e+03   \n",
       "mean  -5.535670e-17     0.000000  1.581620e-17 -2.767835e-17  2.372430e-17   \n",
       "std    1.000278e+00     1.000278  1.000278e+00  1.000278e+00  1.000278e+00   \n",
       "min   -1.020657e+00    -0.409724 -1.250229e-01 -5.907756e-02 -6.240093e-01   \n",
       "25%   -1.020657e+00    -0.409724 -1.250229e-01 -5.907756e-02 -6.240093e-01   \n",
       "50%   -3.145470e-01    -0.409724 -1.250229e-01 -5.907756e-02 -6.240093e-01   \n",
       "75%    9.211453e-01    -0.409724 -1.250229e-01 -5.907756e-02  3.148782e-01   \n",
       "max    1.803783e+00     4.402524  1.433847e+01  2.117340e+01  4.383391e+00   \n",
       "\n",
       "       ...     pixel_6_6     pixel_6_7     pixel_7_0     pixel_7_1  \\\n",
       "count  ...  1.797000e+03  1.797000e+03  1.797000e+03  1.797000e+03   \n",
       "mean   ... -7.908099e-18  2.372430e-17 -1.186215e-17 -3.954050e-17   \n",
       "std    ...  1.000278e+00  1.000278e+00  1.000278e+00  1.000278e+00   \n",
       "min    ... -7.574358e-01 -2.097851e-01 -2.359646e-02 -2.990813e-01   \n",
       "25%    ... -7.574358e-01 -2.097851e-01 -2.359646e-02 -2.990813e-01   \n",
       "50%    ... -5.541027e-01 -2.097851e-01 -2.359646e-02 -2.990813e-01   \n",
       "75%    ...  6.658963e-01 -2.097851e-01 -2.359646e-02 -2.990813e-01   \n",
       "max    ...  2.495895e+00  1.299989e+01  4.237924e+01  9.336462e+00   \n",
       "\n",
       "          pixel_7_2     pixel_7_3     pixel_7_4     pixel_7_5     pixel_7_6  \\\n",
       "count  1.797000e+03  1.797000e+03  1.797000e+03  1.797000e+03  1.797000e+03   \n",
       "mean  -6.326480e-17 -1.818863e-16  4.349455e-17  4.942562e-17  9.885124e-17   \n",
       "std    1.000278e+00  1.000278e+00  1.000278e+00  1.000278e+00  1.000278e+00   \n",
       "min   -1.089383e+00 -2.764171e+00 -2.394110e+00 -1.146647e+00 -5.056698e-01   \n",
       "25%   -8.933661e-01 -2.490095e-01 -3.667712e-01 -1.146647e+00 -5.056698e-01   \n",
       "50%   -3.053152e-01  2.082926e-01  4.441644e-01 -1.295226e-01 -5.056698e-01   \n",
       "75%    8.707865e-01  8.942457e-01  8.496321e-01  8.876023e-01 -1.660165e-02   \n",
       "max    2.046888e+00  8.942457e-01  8.496321e-01  1.565686e+00  3.406875e+00   \n",
       "\n",
       "          pixel_7_7  \n",
       "count  1.797000e+03  \n",
       "mean   1.581620e-17  \n",
       "std    1.000278e+00  \n",
       "min   -1.960075e-01  \n",
       "25%   -1.960075e-01  \n",
       "50%   -1.960075e-01  \n",
       "75%   -1.960075e-01  \n",
       "max    8.407974e+00  \n",
       "\n",
       "[8 rows x 64 columns]"
      ]
     },
     "execution_count": 20,
     "metadata": {},
     "output_type": "execute_result"
    }
   ],
   "source": [
    "(pd.DataFrame(X_scaled, columns = df.columns)).describe()"
   ]
  },
  {
   "cell_type": "markdown",
   "id": "a50330eb",
   "metadata": {},
   "source": [
    "# 4) Splitting the data & building the model \n"
   ]
  },
  {
   "cell_type": "code",
   "execution_count": 21,
   "id": "fae25a50",
   "metadata": {},
   "outputs": [],
   "source": [
    "from sklearn.model_selection import train_test_split\n",
    "\n",
    "X_train, X_test, y_train, y_test = train_test_split(X_scaled,\n",
    "                                                   y, \n",
    "                                                   stratify = y, \n",
    "                                                   test_size = .2,\n",
    "                                                   random_state = 25)"
   ]
  },
  {
   "cell_type": "code",
   "execution_count": 22,
   "id": "726da381",
   "metadata": {},
   "outputs": [
    {
     "name": "stdout",
     "output_type": "stream",
     "text": [
      "The training dataset's features of shape : (1437, 64) is tied to the training data's target of shape : (1437,)\n",
      "\n",
      "The test dataset's features of shape : (360, 64) is tied to the test data's target of shape : (360,)\n"
     ]
    }
   ],
   "source": [
    "print(f\"The training dataset's features of shape : {X_train.shape} is tied to the training data's target of shape : {y_train.shape}\")\n",
    "print(f\"\\nThe test dataset's features of shape : {X_test.shape} is tied to the test data's target of shape : {y_test.shape}\")"
   ]
  },
  {
   "cell_type": "markdown",
   "id": "680e378e",
   "metadata": {},
   "source": [
    "This is a classification problem, where we try to classify each row from the dataset of features of shape (,64) to a certain class (digit), let's perform a logistic regression :"
   ]
  },
  {
   "cell_type": "code",
   "execution_count": 23,
   "id": "d260f6a7",
   "metadata": {},
   "outputs": [
    {
     "data": {
      "text/plain": [
       "0.9666666666666667"
      ]
     },
     "execution_count": 23,
     "metadata": {},
     "output_type": "execute_result"
    }
   ],
   "source": [
    "from sklearn.linear_model import LogisticRegression\n",
    "\n",
    "# Initiate the model\n",
    "lor = LogisticRegression()\n",
    "# Fitting the model to the data\n",
    "lor.fit(X_train, y_train)\n",
    "# checking the model's accuracy score\n",
    "lor.score(X_test, y_test)  "
   ]
  },
  {
   "cell_type": "code",
   "execution_count": 24,
   "id": "03bd6536",
   "metadata": {},
   "outputs": [
    {
     "data": {
      "text/plain": [
       "array([0, 1, 2, 3, 4, 5, 6, 7, 8, 9])"
      ]
     },
     "execution_count": 24,
     "metadata": {},
     "output_type": "execute_result"
    }
   ],
   "source": [
    "# model classes\n",
    "lor.classes_"
   ]
  },
  {
   "cell_type": "markdown",
   "id": "7aff4974",
   "metadata": {},
   "source": [
    "# 5) Performing PCA to reduce dimensions"
   ]
  },
  {
   "cell_type": "code",
   "execution_count": 25,
   "id": "44d17c3a",
   "metadata": {},
   "outputs": [
    {
     "data": {
      "text/plain": [
       "(1797, 40)"
      ]
     },
     "execution_count": 25,
     "metadata": {},
     "output_type": "execute_result"
    }
   ],
   "source": [
    "from sklearn.decomposition import PCA\n",
    "\n",
    "# using components such that 95% of total variance is retained\n",
    "pca = PCA(.95)\n",
    "\n",
    "# fitting the pca to the data and transform it\n",
    "X_pca = pca.fit_transform(X_scaled)\n",
    "\n",
    "X_pca.shape\n"
   ]
  },
  {
   "cell_type": "code",
   "execution_count": 26,
   "id": "a609c9e4",
   "metadata": {},
   "outputs": [
    {
     "data": {
      "text/plain": [
       "array([0.12033916, 0.09561054, 0.08444415, 0.06498408, 0.04860155,\n",
       "       0.0421412 , 0.03942083, 0.03389381, 0.02998221, 0.02932003,\n",
       "       0.02781805, 0.02577055, 0.02275303, 0.0222718 , 0.02165229,\n",
       "       0.01914167, 0.01775547, 0.01638069, 0.0159646 , 0.01489191,\n",
       "       0.0134797 , 0.01271931, 0.01165837, 0.01057647, 0.00975316,\n",
       "       0.00944559, 0.00863014, 0.00836643, 0.00797693, 0.00746471,\n",
       "       0.00725582, 0.00691911, 0.00653909, 0.00640793, 0.00591384,\n",
       "       0.00571162, 0.00523637, 0.00481808, 0.00453719, 0.00423163])"
      ]
     },
     "execution_count": 26,
     "metadata": {},
     "output_type": "execute_result"
    }
   ],
   "source": [
    "# Explained variance ratios \n",
    "pca.explained_variance_ratio_"
   ]
  },
  {
   "cell_type": "code",
   "execution_count": 27,
   "id": "43478388",
   "metadata": {},
   "outputs": [
    {
     "data": {
      "text/plain": [
       "0.9507791125066462"
      ]
     },
     "execution_count": 27,
     "metadata": {},
     "output_type": "execute_result"
    }
   ],
   "source": [
    "pca.explained_variance_ratio_.sum()"
   ]
  },
  {
   "cell_type": "code",
   "execution_count": 28,
   "id": "80bf9477",
   "metadata": {
    "scrolled": true
   },
   "outputs": [
    {
     "data": {
      "text/plain": [
       "40"
      ]
     },
     "execution_count": 28,
     "metadata": {},
     "output_type": "execute_result"
    }
   ],
   "source": [
    "# number of principale components selected \n",
    "pca.n_components_"
   ]
  },
  {
   "cell_type": "markdown",
   "id": "847a4f79",
   "metadata": {},
   "source": [
    "So we created $40$ principale components out of $64$ original features (columns), so that we can retain $95\\%$ of the total variance :"
   ]
  },
  {
   "cell_type": "code",
   "execution_count": 29,
   "id": "71f3e38d",
   "metadata": {},
   "outputs": [
    {
     "data": {
      "text/plain": [
       "array([[ 1.91421366, -0.95450157, -3.94603482, ...,  0.81405925,\n",
       "         0.0249306 ,  0.32193146],\n",
       "       [ 0.58898033,  0.9246358 ,  3.92475494, ...,  0.20026094,\n",
       "         0.08710843, -0.48914299],\n",
       "       [ 1.30203906, -0.31718883,  3.02333293, ..., -0.214596  ,\n",
       "        -1.2788745 ,  0.54583387],\n",
       "       ...,\n",
       "       [ 1.02259599, -0.14791087,  2.46997365, ...,  0.60136463,\n",
       "         0.41238798,  1.20886377],\n",
       "       [ 1.07605522, -0.38090625, -2.45548693, ...,  0.43756556,\n",
       "        -0.69863483, -0.44339963],\n",
       "       [-1.25770233, -2.22759088,  0.28362789, ..., -0.38108638,\n",
       "         0.12855104,  1.32137195]])"
      ]
     },
     "execution_count": 29,
     "metadata": {},
     "output_type": "execute_result"
    }
   ],
   "source": [
    "X_pca"
   ]
  },
  {
   "cell_type": "markdown",
   "id": "2493a37e",
   "metadata": {},
   "source": [
    "Let's now perform a a logistic regression, after we reduced the number of features :"
   ]
  },
  {
   "cell_type": "code",
   "execution_count": 30,
   "id": "6ac322b5",
   "metadata": {},
   "outputs": [],
   "source": [
    "X_train_pca, X_test_pca, y_train, y_test = train_test_split(X_pca,\n",
    "                                                            y,\n",
    "                                                            stratify = y,\n",
    "                                                            test_size = .2,\n",
    "                                                            random_state = 25)\n"
   ]
  },
  {
   "cell_type": "code",
   "execution_count": 31,
   "id": "020433fb",
   "metadata": {},
   "outputs": [
    {
     "data": {
      "text/plain": [
       "0.9611111111111111"
      ]
     },
     "execution_count": 31,
     "metadata": {},
     "output_type": "execute_result"
    }
   ],
   "source": [
    "lor = LogisticRegression(max_iter = 1500)\n",
    "lor.fit(X_train_pca, y_train)\n",
    "lor.score(X_test_pca, y_test)"
   ]
  },
  {
   "cell_type": "markdown",
   "id": "a92cc8c6",
   "metadata": {},
   "source": [
    "Let's see the scree plot :"
   ]
  },
  {
   "cell_type": "code",
   "execution_count": 32,
   "id": "5294ef07",
   "metadata": {},
   "outputs": [
    {
     "data": {
      "image/png": "[encoded data removed]",
      "text/plain": [
       "<Figure size 1000x500 with 1 Axes>"
      ]
     },
     "metadata": {},
     "output_type": "display_data"
    }
   ],
   "source": [
    "# Get explained variance ratio\n",
    "explained_variance_ratio = pca.explained_variance_ratio_\n",
    "\n",
    "# Plot scree plot\n",
    "plt.figure(figsize=(10, 5))\n",
    "plt.bar(x = range(1, len(explained_variance_ratio) + 1),\n",
    "        height = explained_variance_ratio,\n",
    "        alpha = 0.5)\n",
    "\n",
    "plt.xlabel('Principal Components')\n",
    "plt.ylabel('Explained Variance Ratio')\n",
    "plt.title('Scree Plot of PCA')\n",
    "plt.xticks(range(1, len(explained_variance_ratio) + 1))\n",
    "plt.grid(True)"
   ]
  },
  {
   "cell_type": "code",
   "execution_count": 33,
   "id": "ece0089d",
   "metadata": {
    "scrolled": false
   },
   "outputs": [
    {
     "data": {
      "image/png": "[encoded data removed]",
      "text/plain": [
       "<Figure size 1000x500 with 1 Axes>"
      ]
     },
     "metadata": {},
     "output_type": "display_data"
    }
   ],
   "source": [
    "# Plot scree plot\n",
    "plt.figure(figsize=(10, 5))\n",
    "explained_variance = pca.explained_variance_\n",
    "cumulative_explained_variance = np.cumsum(pca.explained_variance_ratio_)\n",
    "\n",
    "\n",
    "plt.bar(x = range(1, len(explained_variance) + 1),\n",
    "        height = explained_variance,\n",
    "        alpha = 0.5,\n",
    "        align = 'center',\n",
    "        label = 'Individual explained variance')\n",
    "\n",
    "\n",
    "plt.step(x = range(1, len(explained_variance) + 1),\n",
    "         y = cumulative_explained_variance,\n",
    "         where = 'mid',\n",
    "         label = 'Cumulative explained variance')\n",
    "\n",
    "\n",
    "\n",
    "plt.xlabel('Number of Principal Components')\n",
    "plt.ylabel('Explained Variance Ratio')\n",
    "plt.title('Scree Plot of PCA')\n",
    "plt.legend()\n",
    "plt.grid(True)"
   ]
  },
  {
   "cell_type": "markdown",
   "id": "56898ac9",
   "metadata": {},
   "source": [
    "As we can see, as we include more and more PCs, the **cumulative explained variance** increase to reach **0.95** if we include all the PCs."
   ]
  },
  {
   "cell_type": "markdown",
   "id": "550d0391",
   "metadata": {},
   "source": [
    "Let's now try to select 2 principale components $PC1$ and $PC2$ :"
   ]
  },
  {
   "cell_type": "code",
   "execution_count": 34,
   "id": "3a3509bf",
   "metadata": {},
   "outputs": [
    {
     "data": {
      "text/plain": [
       "(1797, 2)"
      ]
     },
     "execution_count": 34,
     "metadata": {},
     "output_type": "execute_result"
    }
   ],
   "source": [
    "pca = PCA(n_components = 2)\n",
    "X_pca = pca.fit_transform(X_scaled)\n",
    "X_pca.shape"
   ]
  },
  {
   "cell_type": "code",
   "execution_count": 35,
   "id": "6b110127",
   "metadata": {},
   "outputs": [
    {
     "data": {
      "text/plain": [
       "array([[ 1.91421343, -0.95450403],\n",
       "       [ 0.58897672,  0.92462804],\n",
       "       [ 1.30204077, -0.31720005],\n",
       "       ...,\n",
       "       [ 1.02259323, -0.14788588],\n",
       "       [ 1.07604979, -0.38090085],\n",
       "       [-1.25770208, -2.22755814]])"
      ]
     },
     "execution_count": 35,
     "metadata": {},
     "output_type": "execute_result"
    }
   ],
   "source": [
    "X_pca"
   ]
  },
  {
   "cell_type": "code",
   "execution_count": 36,
   "id": "342eca73",
   "metadata": {},
   "outputs": [
    {
     "data": {
      "text/plain": [
       "array([0.12033916, 0.09561054])"
      ]
     },
     "execution_count": 36,
     "metadata": {},
     "output_type": "execute_result"
    }
   ],
   "source": [
    "# The explained variances by 'PC1' and 'PC2'\n",
    "pca.explained_variance_ratio_"
   ]
  },
  {
   "cell_type": "markdown",
   "id": "e49b8080",
   "metadata": {},
   "source": [
    "We can see that both variances combined retains `0.12+0.09 = 0.21` which represents $21\\%$ of the important feature information."
   ]
  },
  {
   "cell_type": "code",
   "execution_count": 37,
   "id": "2db27d4c",
   "metadata": {
    "scrolled": false
   },
   "outputs": [
    {
     "data": {
      "image/png": "[encoded data removed]",
      "text/plain": [
       "<Figure size 700x300 with 1 Axes>"
      ]
     },
     "metadata": {},
     "output_type": "display_data"
    }
   ],
   "source": [
    "# Get explained variance ratio\n",
    "explained_variance_ratio = pca.explained_variance_ratio_\n",
    "\n",
    "# Plot scree plot\n",
    "plt.figure(figsize=(7, 3))\n",
    "plt.bar(x = range(1, len(explained_variance_ratio) + 1),\n",
    "        height = explained_variance_ratio,\n",
    "        alpha = 0.5)\n",
    "\n",
    "plt.xlabel('Principal Components')\n",
    "plt.ylabel('Explained Variance Ratio')\n",
    "plt.title('Scree Plot of PCA')\n",
    "plt.xticks(range(1, len(explained_variance_ratio) + 1))\n",
    "plt.grid(True)"
   ]
  },
  {
   "cell_type": "code",
   "execution_count": 38,
   "id": "de5484fc",
   "metadata": {
    "scrolled": true
   },
   "outputs": [
    {
     "data": {
      "image/png": "[encoded data removed]",
      "text/plain": [
       "<Figure size 700x300 with 1 Axes>"
      ]
     },
     "metadata": {},
     "output_type": "display_data"
    }
   ],
   "source": [
    "# Plot scree plot\n",
    "plt.figure(figsize=(7, 3))\n",
    "explained_variance = pca.explained_variance_\n",
    "cumulative_explained_variance = np.cumsum(pca.explained_variance_ratio_)\n",
    "\n",
    "\n",
    "plt.bar(x = range(1, len(explained_variance) + 1),\n",
    "        height = explained_variance,\n",
    "        alpha = 0.5,\n",
    "        align = 'center',\n",
    "        label = 'Individual explained variance')\n",
    "\n",
    "\n",
    "plt.step(x = range(1, len(explained_variance) + 1),\n",
    "         y = cumulative_explained_variance,\n",
    "         where = 'mid',\n",
    "         label = 'Cumulative explained variance')\n",
    "\n",
    "\n",
    "\n",
    "plt.xlabel('Number of Principal Components')\n",
    "plt.ylabel('Explained Variance Ratio')\n",
    "plt.title('Scree Plot of PCA')\n",
    "plt.legend()\n",
    "plt.grid(True)"
   ]
  },
  {
   "cell_type": "markdown",
   "id": "53c71211",
   "metadata": {},
   "source": [
    "As we can see, as we include both PCs, the **cumulative explained variance** increase from **0.12 (12\\%)** to reach **0.21 (21\\%)**."
   ]
  },
  {
   "cell_type": "code",
   "execution_count": 39,
   "id": "9c25fe32",
   "metadata": {},
   "outputs": [
    {
     "data": {
      "text/plain": [
       "0.5472222222222223"
      ]
     },
     "execution_count": 39,
     "metadata": {},
     "output_type": "execute_result"
    }
   ],
   "source": [
    "X_train_pca, X_test_pca, y_train, y_test = train_test_split(X_pca,\n",
    "                                                            y,\n",
    "                                                            stratify = y,\n",
    "                                                            test_size = .2,\n",
    "                                                            random_state = 25)\n",
    "\n",
    "lor = LogisticRegression(max_iter = 1500)\n",
    "lor.fit(X_train_pca, y_train)\n",
    "lor.score(X_test_pca, y_test)"
   ]
  },
  {
   "cell_type": "markdown",
   "id": "3f06e6cc",
   "metadata": {},
   "source": [
    "# Conclusion\n",
    "\n",
    "We observe a decrease in accuracy, approximately to $55\\%$ (from the orginal $96.67\\%$), when using only $2$ components. This reduction in accuracy suggests that the two components do not retain sufficient feature information. Nevertheless, in practical scenarios, we may encounter situations where employing just $2$ or a few PCA components still yields satisfactory accuracy."
   ]
  },
  {
   "cell_type": "markdown",
   "id": "3c9c7f6d",
   "metadata": {},
   "source": [
    "# Change Log\n",
    "\n",
    "| Date (DD-MM-YYYY) | Version | Changed By      | Change Description      |\n",
    "| ----------------- | ------- | -------------   | ----------------------- |\n",
    "| 15-01-2024       | 1.0     | Younes Dahami   |  initial version |\n",
    "| 30-04-2024       | 1.1     | Younes Dahami   |  scree plots |\n"
   ]
  },
  {
   "cell_type": "code",
   "execution_count": null,
   "id": "3d87a5e7",
   "metadata": {},
   "outputs": [],
   "source": []
  }
 ],
 "metadata": {
  "kernelspec": {
   "display_name": "Python 3 (ipykernel)",
   "language": "python",
   "name": "python3"
  },
  "language_info": {
   "codemirror_mode": {
    "name": "ipython",
    "version": 3
   },
   "file_extension": ".py",
   "mimetype": "text/x-python",
   "name": "python",
   "nbconvert_exporter": "python",
   "pygments_lexer": "ipython3",
   "version": "3.10.10"
  }
 },
 "nbformat": 4,
 "nbformat_minor": 5
}
